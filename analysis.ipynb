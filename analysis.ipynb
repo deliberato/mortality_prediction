{
 "cells": [
  {
   "cell_type": "code",
   "execution_count": 1685,
   "metadata": {},
   "outputs": [],
   "source": [
    "import numpy as np\n",
    "import pandas as pd\n",
    "from math import isnan\n",
    "import roc_utils as roc\n",
    "import matplotlib.pyplot as plt\n",
    "from xgboost import XGBClassifier\n",
    "from sklearn.pipeline import Pipeline\n",
    "from sklearn.metrics import roc_auc_score\n",
    "from sklearn.calibration import calibration_curve\n",
    "from sklearn.linear_model import LogisticRegression\n",
    "from sklearn.calibration import CalibratedClassifierCV\n",
    "from sklearn.preprocessing import StandardScaler, LabelEncoder\n",
    "from sklearn.model_selection import StratifiedKFold, train_test_split"
   ]
  },
  {
   "cell_type": "code",
   "execution_count": 1686,
   "metadata": {},
   "outputs": [],
   "source": [
    "pd.set_option('display.max_columns', 500)\n",
    "pd.set_option('display.max_rows', 500)\n",
    "hiae = pd.read_csv(\"data/hiae.csv\")\n",
    "hmvsc = pd.read_csv(\"data/hmvsc.csv\")"
   ]
  },
  {
   "cell_type": "markdown",
   "metadata": {},
   "source": [
    "## Data prep"
   ]
  },
  {
   "cell_type": "code",
   "execution_count": 1687,
   "metadata": {},
   "outputs": [],
   "source": [
    "# Valid variable thresholds\n",
    "thresholds = {\n",
    "    'highest_respiratory_rate1h': [1, 80],\n",
    "    'highest_temperature1h': [25, 46],\n",
    "    'highest_heart_rate1h': [20, 220],\n",
    "    'lowest_mean_arterial_pressure1h': [1, 200],\n",
    "    'lowest_diastolic_blood_pressure1h': [1, 200],\n",
    "    'lowest_systolic_blood_pressure1h': [1, 300],\n",
    "    'bmi': [10, 70]\n",
    "}"
   ]
  },
  {
   "cell_type": "code",
   "execution_count": 1688,
   "metadata": {},
   "outputs": [],
   "source": [
    "normal = {\n",
    "    'highest_respiratory_rate1h': 16,\n",
    "    'highest_temperature1h': 37,\n",
    "    'highest_heart_rate1h': 80,\n",
    "    'lowest_mean_arterial_pressure1h': 90,\n",
    "    'lowest_diastolic_blood_pressure1h': 80,\n",
    "    'lowest_systolic_blood_pressure1h': 120,\n",
    "    'lengthhospitalstaypriorunitadmission': 0\n",
    "}"
   ]
  },
  {
   "cell_type": "code",
   "execution_count": 1689,
   "metadata": {},
   "outputs": [],
   "source": [
    "# Function to remove invalid thresholds\n",
    "def remove_invalid(df, thresholds):\n",
    "    for c in thresholds:\n",
    "        df.loc[(df[c] < thresholds[c][0]) | (df[c] > thresholds[c][1]), c] = np.nan"
   ]
  },
  {
   "cell_type": "code",
   "execution_count": 1690,
   "metadata": {},
   "outputs": [],
   "source": [
    "# Remove invalid thresholds\n",
    "remove_invalid(hiae, thresholds)\n",
    "remove_invalid(hmvsc, thresholds)"
   ]
  },
  {
   "cell_type": "code",
   "execution_count": 1691,
   "metadata": {},
   "outputs": [],
   "source": [
    "# Group glasgow\n",
    "def group_gcs(gcs):\n",
    "    if isnan(gcs):\n",
    "        return np.nan\n",
    "    \n",
    "    gcs = int(gcs)\n",
    "    if gcs < 15:\n",
    "        return 1\n",
    "    elif gcs == 15:\n",
    "        return 2"
   ]
  },
  {
   "cell_type": "code",
   "execution_count": 1692,
   "metadata": {},
   "outputs": [],
   "source": [
    "def group_adm_src(df):\n",
    "     df['admissionsourcename'].replace({\n",
    "         'Enfermaria / quarto': 'floor',\n",
    "         'Centro Cirúrgico': 'operating room',\n",
    "         'Sala de hemodinâmica': 'operating room',\n",
    "         'Emergência': 'emergency room',\n",
    "         'Home-care': 'emergency room', \n",
    "         'Transferência de outro hospital/instituição': 'other sources',\n",
    "         'Outra UTI/UCI do seu hospital': 'other icu',\n",
    "         'Unidade Semi-intensiva': 'other sources',\n",
    "         'Outra - Não especificada': 'other sources'\n",
    "     }, inplace=True)"
   ]
  },
  {
   "cell_type": "code",
   "execution_count": 1693,
   "metadata": {},
   "outputs": [],
   "source": [
    "# Group gcs\n",
    "hiae['glasgow'] = hiae['lowest_glasgow_coma_scale1h'].apply(group_gcs)\n",
    "hmvsc['glasgow'] = hmvsc['lowest_glasgow_coma_scale1h'].apply(group_gcs)\n",
    "\n",
    "# Group admission source\n",
    "group_adm_src(hiae)\n",
    "group_adm_src(hmvsc)"
   ]
  },
  {
   "cell_type": "code",
   "execution_count": 1694,
   "metadata": {},
   "outputs": [],
   "source": [
    "class CustomImputer:\n",
    "    def __init__(self, normal, c_cols):\n",
    "        self.normal = normal\n",
    "        self.c_cols = c_cols\n",
    "\n",
    "    def fit(self, X, y=None):\n",
    "        self.modes = [(c, X[c].dropna().mode()[0]) for c in c_cols]\n",
    "        return self\n",
    "\n",
    "    def transform(self, X):\n",
    "        output = X.copy()\n",
    "        for c, v in self.normal.items():\n",
    "            output[c].fillna(v, inplace=True)\n",
    "        for c, v in self.modes:\n",
    "            output[c].fillna(v, inplace=True)\n",
    "        return output\n",
    "\n",
    "    def fit_transform(self, X, y=None):\n",
    "        return self.fit(X, y).transform(X)"
   ]
  },
  {
   "cell_type": "code",
   "execution_count": 1695,
   "metadata": {},
   "outputs": [],
   "source": [
    "class CustomLabelEncoder:\n",
    "    def __init__(self, values):\n",
    "        self.values = values\n",
    "\n",
    "    def fit(self, X, y=None):\n",
    "        self.encoders = [(c, LabelEncoder().fit(v)) for c, v in self.values]\n",
    "        return self\n",
    "\n",
    "    def transform(self, X):\n",
    "        output = X.copy()\n",
    "        for c, e in self.encoders:\n",
    "            output.loc[output[c].notna(), c] = e.transform(output.loc[output[c].notna(), c])\n",
    "            output[c].fillna(-1, inplace=True)\n",
    "        return output\n",
    "\n",
    "    def fit_transform(self, X, y=None):\n",
    "        return self.fit(X, y).transform(X)"
   ]
  },
  {
   "cell_type": "code",
   "execution_count": 1696,
   "metadata": {},
   "outputs": [],
   "source": [
    "class OneHotEncoder:\n",
    "    def __init__(self, columns):\n",
    "        self.columns = columns\n",
    "\n",
    "    def fit(self, X, y=None):\n",
    "        return self\n",
    "\n",
    "    def transform(self, X):\n",
    "        output = X.copy()\n",
    "        output = pd.get_dummies(output, columns=self.columns, drop_first=True)\n",
    "        return output\n",
    "\n",
    "    def fit_transform(self, X, y=None):\n",
    "        return self.fit(X, y).transform(X)"
   ]
  },
  {
   "cell_type": "code",
   "execution_count": 1697,
   "metadata": {},
   "outputs": [],
   "source": [
    "class CustomScaler:\n",
    "    def __init__(self, columns):\n",
    "        self.columns = columns\n",
    "\n",
    "    def fit(self, X, y=None):\n",
    "        self.scalers = [(c, StandardScaler().fit(X[c].astype(float).values.reshape(-1,1))) for c in self.columns]\n",
    "        return self\n",
    "\n",
    "    def transform(self, X):\n",
    "        output = X.copy()\n",
    "        for c, s in self.scalers:\n",
    "            output[c] = s.transform(output[c].astype(float).values.reshape(-1,1))\n",
    "        return output\n",
    "\n",
    "    def fit_transform(self, X, y=None):\n",
    "        return self.fit(X, y).transform(X)"
   ]
  },
  {
   "cell_type": "code",
   "execution_count": 1698,
   "metadata": {},
   "outputs": [],
   "source": [
    "# Lists of variable types\n",
    "target = \"hospitalexpireflag\"\n",
    "\n",
    "demographic = [\"genders\", \"admissionsourcename\", \"admissiontypename\", \"chronic_health_status_name\",\n",
    "               \"age\", \"lengthhospitalstaypriorunitadmission\", \"bmi_group\"]\n",
    "\n",
    "physiological = [\"lowest_systolic_blood_pressure1h\", \"lowest_diastolic_blood_pressure1h\",\n",
    "                 \"lowest_mean_arterial_pressure1h\", \"highest_heart_rate1h\", \"highest_respiratory_rate1h\",\n",
    "                 \"highest_temperature1h\"]\n",
    "\n",
    "glasgow = [\"glasgow\"]\n",
    "                 \n",
    "c_cols = [\"genders\", \"admissionsourcename\", \"admissiontypename\", \"chronic_health_status_name\", \n",
    "          \"glasgow\", \"bmi_group\"]\n",
    "\n",
    "n_cols = [\"age\", \"lowest_systolic_blood_pressure1h\", \n",
    "          \"lowest_diastolic_blood_pressure1h\",\"lowest_mean_arterial_pressure1h\", \"highest_heart_rate1h\", \n",
    "          \"highest_respiratory_rate1h\", \"highest_temperature1h\", \"lengthhospitalstaypriorunitadmission\"]"
   ]
  },
  {
   "cell_type": "markdown",
   "metadata": {},
   "source": [
    "## Logit trained in HIAE data"
   ]
  },
  {
   "cell_type": "code",
   "execution_count": 1699,
   "metadata": {},
   "outputs": [],
   "source": [
    "# Separates X and y\n",
    "X_hiae = hiae[demographic+physiological+glasgow].copy()\n",
    "y_hiae = hiae[target].copy()\n",
    "\n",
    "# Separates X and y\n",
    "X_hmvsc = hmvsc[demographic+physiological+glasgow].copy()\n",
    "y_hmvsc = hmvsc[target].copy()\n",
    "\n",
    "# Create null flag column\n",
    "for c in X_hiae.columns:\n",
    "    X_hiae[c+\"_null\"] = X_hiae[c].isna().astype(int)\n",
    "    X_hmvsc[c+\"_null\"] = X_hmvsc[c].isna().astype(int)"
   ]
  },
  {
   "cell_type": "code",
   "execution_count": 1700,
   "metadata": {},
   "outputs": [],
   "source": [
    "# Get unique values for categorical features\n",
    "values = [(c, X_hiae.append(X_hmvsc).dropna()[c].unique()) for c in c_cols]\n",
    "\n",
    "# Create pipeline\n",
    "pipe = Pipeline([\n",
    "    (\"imputer\", CustomImputer(normal, c_cols)),\n",
    "    (\"encoder\", CustomLabelEncoder(values)),\n",
    "    (\"ohe\", OneHotEncoder(c_cols)),\n",
    "    (\"scaler\", CustomScaler(n_cols))\n",
    "])"
   ]
  },
  {
   "cell_type": "code",
   "execution_count": 1701,
   "metadata": {},
   "outputs": [],
   "source": [
    "# Split StratifiedKFold\n",
    "skf = StratifiedKFold(n_splits=5, random_state=42)\n",
    "\n",
    "y_true_hiae = []\n",
    "y_logr_hiae = []\n",
    "for train, test in skf.split(X_hiae, y_hiae):\n",
    "    # Get train and test sets\n",
    "    X_train, X_test = X_hiae.loc[train], X_hiae.loc[test]\n",
    "    y_train, y_test = y_hiae.loc[train], y_hiae.loc[test]\n",
    "\n",
    "    # Run pipeline\n",
    "    X_train = pipe.fit_transform(X_train)\n",
    "    X_test = pipe.transform(X_test)\n",
    "    \n",
    "    # Run models\n",
    "    logr = LogisticRegression(penalty='l1')\n",
    "    logr.fit(X_train, y_train)\n",
    "    \n",
    "    # Predict probs\n",
    "    y_true_hiae.extend(y_test)\n",
    "    y_logr_hiae.extend(logr.predict_proba(X_test))\n",
    "    \n",
    "# Numpy array of probs\n",
    "y_true_hiae = np.array(y_true_hiae)\n",
    "y_logr_hiae = np.array(y_logr_hiae)[:,1]"
   ]
  },
  {
   "cell_type": "code",
   "execution_count": 1702,
   "metadata": {},
   "outputs": [],
   "source": [
    "# HMVSC validation\n",
    "X_train, y_train = X_hiae.copy(), y_hiae.copy()\n",
    "X_test, y_test = X_hmvsc.copy(), y_hmvsc.copy()\n",
    "\n",
    "# Run pipeline\n",
    "X_train = pipe.fit_transform(X_train)\n",
    "X_test = pipe.transform(X_test)\n",
    "\n",
    "# Run models\n",
    "logr = LogisticRegression(penalty='l1')\n",
    "logr.fit(X_train, y_train)\n",
    "\n",
    "# Predict probs\n",
    "X_rec = logr.predict_proba(X_test)\n",
    "X_rec = [v ** (1/3) for v in X_rec]\n",
    "y_rec = y_test.copy()\n",
    "\n",
    "# Split\n",
    "X_train, X_test, y_train, y_test = train_test_split(X_rec, y_rec,\n",
    "                                                    test_size=y_test.size-600, random_state=42, stratify=y_test)\n",
    "\n",
    "# Run models\n",
    "rec = LogisticRegression(class_weight={0:1.,1:1.7})\n",
    "rec.fit(X_train, y_train)\n",
    "    \n",
    "# Predict probs\n",
    "y_true_hmvsc = np.array(y_test)\n",
    "y_logr_hmvsc = rec.predict_proba(X_test)[:,1]"
   ]
  },
  {
   "cell_type": "code",
   "execution_count": 1703,
   "metadata": {},
   "outputs": [
    {
     "name": "stdout",
     "output_type": "stream",
     "text": [
      "0.8298599158807513 AUC HIAE\n",
      "0.8309052059052058 AUC HMVSC\n"
     ]
    },
    {
     "data": {
      "image/png": "[encoded data removed]",
      "text/plain": [
       "<Figure size 720x720 with 1 Axes>"
      ]
     },
     "metadata": {},
     "output_type": "display_data"
    }
   ],
   "source": [
    "# Metrics Logit\n",
    "\n",
    "# Perfectly calibrated curve\n",
    "plt.figure(figsize=(10, 10))\n",
    "ax1 = plt.subplot2grid((3, 1), (0, 0), rowspan=2)\n",
    "ax1.plot([0, 1], [0, 1], \"k:\", label=\"Perfectly calibrated\")\n",
    "\n",
    "# Define number of bins\n",
    "n_bins = 10\n",
    "\n",
    "# HIAE metrics\n",
    "print(roc_auc_score(y_true_hiae, y_logr_hiae), \"AUC HIAE\")\n",
    "\n",
    "fraction_of_positives, mean_predicted_value = calibration_curve(y_true_hiae, y_logr_hiae, n_bins=n_bins)\n",
    "ax1.plot(mean_predicted_value, fraction_of_positives, \"s-\",\n",
    "             label=\"HIAE\")\n",
    "\n",
    "# HMVSC metrics\n",
    "print(roc_auc_score(y_true_hmvsc, y_logr_hmvsc), \"AUC HMVSC\")\n",
    "\n",
    "fraction_of_positives, mean_predicted_value = calibration_curve(y_true_hmvsc, y_logr_hmvsc, n_bins=n_bins)\n",
    "ax1.plot(mean_predicted_value, fraction_of_positives, \"s-\",\n",
    "             label=\"HMVSC\")\n",
    "    \n",
    "# Plot calibration\n",
    "plt.legend()\n",
    "plt.show()"
   ]
  },
  {
   "cell_type": "markdown",
   "metadata": {},
   "source": [
    "### XGBoost trained in HIAE data"
   ]
  },
  {
   "cell_type": "code",
   "execution_count": 1704,
   "metadata": {},
   "outputs": [],
   "source": [
    "# Separates X and y\n",
    "X_hiae = hiae[demographic+physiological+glasgow].copy()\n",
    "y_hiae = hiae[target].copy()\n",
    "\n",
    "# Separates X and y\n",
    "X_hmvsc = hmvsc[demographic+physiological+glasgow].copy()\n",
    "y_hmvsc = hmvsc[target].copy()"
   ]
  },
  {
   "cell_type": "code",
   "execution_count": 1705,
   "metadata": {},
   "outputs": [],
   "source": [
    "# Get unique values for categorical features\n",
    "values = [(c, X_hiae.append(X_hmvsc).dropna()[c].unique()) for c in c_cols]\n",
    "\n",
    "# Create pipeline\n",
    "pipe = Pipeline([\n",
    "    (\"lenc\", CustomLabelEncoder(values))\n",
    "])"
   ]
  },
  {
   "cell_type": "code",
   "execution_count": 1706,
   "metadata": {},
   "outputs": [],
   "source": [
    "# Split StratifiedKFold\n",
    "skf = StratifiedKFold(n_splits=5, random_state=42)\n",
    "\n",
    "y_true_hiae = []\n",
    "y_xbst_hiae = []\n",
    "for train, test in skf.split(X_hiae, y_hiae):\n",
    "    # Get train and test sets\n",
    "    X_train, X_test = X_hiae.loc[train], X_hiae.loc[test]\n",
    "    y_train, y_test = y_hiae.loc[train], y_hiae.loc[test]\n",
    "    \n",
    "    # Run pipeline\n",
    "    X_train = pipe.fit_transform(X_train)\n",
    "    X_test = pipe.transform(X_test)\n",
    "    \n",
    "    # Run models\n",
    "    xbst = XGBClassifier(n_estimators=100, max_depth=2)\n",
    "    xbst.fit(X_train, y_train)\n",
    "    \n",
    "    # Predict probs\n",
    "    y_true_hiae.extend(y_test)\n",
    "    y_xbst_hiae.extend(xbst.predict_proba(X_test)[:,1])\n",
    "    \n",
    "# Numpy array of probs\n",
    "y_xbst_hiae = np.array(y_xbst_hiae)"
   ]
  },
  {
   "cell_type": "code",
   "execution_count": 1707,
   "metadata": {},
   "outputs": [],
   "source": [
    "# HMVSC validation\n",
    "X_train, y_train = X_hiae.copy(), y_hiae.copy()\n",
    "X_test, y_test = X_hmvsc.copy(), y_hmvsc.copy()\n",
    "\n",
    "# Run pipeline\n",
    "X_train = pipe.fit_transform(X_train)\n",
    "X_test = pipe.transform(X_test)\n",
    "\n",
    "# Run models\n",
    "xbst.fit(X_train, y_train)\n",
    "\n",
    "# Predict probs\n",
    "X_rec = xbst.predict_proba(X_test)\n",
    "X_rec = [v ** (1/3) for v in X_rec]\n",
    "y_rec = y_test.copy()\n",
    "\n",
    "# Split\n",
    "X_train, X_test, y_train, y_test = train_test_split(X_rec, y_rec,\n",
    "                                                    test_size=y_test.size-600, random_state=42, stratify=y_test)\n",
    "\n",
    "# Run models\n",
    "rec = LogisticRegression(class_weight={0:1.,1:1.7})\n",
    "rec.fit(X_train, y_train)\n",
    "    \n",
    "# Predict probs\n",
    "y_true_hmvsc = np.array(y_test)\n",
    "y_xbst_hmvsc = rec.predict_proba(X_test)[:,1]"
   ]
  },
  {
   "cell_type": "code",
   "execution_count": 1708,
   "metadata": {
    "scrolled": false
   },
   "outputs": [
    {
     "name": "stdout",
     "output_type": "stream",
     "text": [
      "0.8352754372542791 AUC HIAE\n",
      "0.8335158107885381 AUC HMVSC\n"
     ]
    },
    {
     "data": {
      "image/png": "[encoded data removed]",
      "text/plain": [
       "<Figure size 720x720 with 1 Axes>"
      ]
     },
     "metadata": {},
     "output_type": "display_data"
    }
   ],
   "source": [
    "# Metrics XGBoost\n",
    "\n",
    "# Perfectly calibrated curve\n",
    "plt.figure(figsize=(10, 10))\n",
    "ax1 = plt.subplot2grid((3, 1), (0, 0), rowspan=2)\n",
    "ax1.plot([0, 1], [0, 1], \"k:\", label=\"Perfectly calibrated\")\n",
    "\n",
    "# Define number of bins\n",
    "n_bins = 8\n",
    "\n",
    "# HIAE metrics\n",
    "print(roc_auc_score(y_true_hiae, y_xbst_hiae), \"AUC HIAE\")\n",
    "\n",
    "fraction_of_positives, mean_predicted_value = calibration_curve(y_true_hiae, y_xbst_hiae, n_bins=n_bins)\n",
    "ax1.plot(mean_predicted_value, fraction_of_positives, \"s-\",\n",
    "             label=\"HIAE\")\n",
    "\n",
    "\n",
    "# HMVSC metrics\n",
    "print(roc_auc_score(y_true_hmvsc, y_xbst_hmvsc), \"AUC HMVSC\")\n",
    "\n",
    "fraction_of_positives, mean_predicted_value = calibration_curve(y_true_hmvsc, y_xbst_hmvsc, n_bins=n_bins)\n",
    "ax1.plot(mean_predicted_value, fraction_of_positives, \"s-\",\n",
    "             label=\"HMVSC\")\n",
    "\n",
    "\n",
    "# Plot calibration\n",
    "plt.legend()\n",
    "plt.show()"
   ]
  },
  {
   "cell_type": "code",
   "execution_count": null,
   "metadata": {},
   "outputs": [],
   "source": []
  }
 ],
 "metadata": {
  "kernelspec": {
   "display_name": "Python 2",
   "language": "python",
   "name": "python2"
  },
  "language_info": {
   "codemirror_mode": {
    "name": "ipython",
    "version": 3
   },
   "file_extension": ".py",
   "mimetype": "text/x-python",
   "name": "python",
   "nbconvert_exporter": "python",
   "pygments_lexer": "ipython3",
   "version": "3.6.5"
  }
 },
 "nbformat": 4,
 "nbformat_minor": 2
}
